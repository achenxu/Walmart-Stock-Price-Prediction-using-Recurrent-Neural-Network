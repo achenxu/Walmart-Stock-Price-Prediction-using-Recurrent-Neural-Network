{
 "cells": [
  {
   "cell_type": "markdown",
   "metadata": {},
   "source": [
    "### Importing the libraries"
   ]
  },
  {
   "cell_type": "code",
   "execution_count": 1,
   "metadata": {},
   "outputs": [],
   "source": [
    "import quandl\n",
    "import pandas as pd\n",
    "import numpy as np\n",
    "import matplotlib.pyplot as plt"
   ]
  },
  {
   "cell_type": "markdown",
   "metadata": {},
   "source": [
    "### Fetching the real time stock prices using quandl API"
   ]
  },
  {
   "cell_type": "code",
   "execution_count": 2,
   "metadata": {},
   "outputs": [],
   "source": [
    "df_train= quandl.get(\"EOD/WMT\", authtoken=\"PHw9dWm3AAZdPf2S8Ph1\", \n",
    "                     start_date=\"2001-01-01\", end_date=\"2017-12-31\")\n",
    "\n",
    "df_test = quandl.get(\"EOD/WMT\", authtoken=\"PHw9dWm3AAZdPf2S8Ph1\", \n",
    "                     start_date=\"2018-01-01\", end_date=\"2018-09-30\")"
   ]
  },
  {
   "cell_type": "markdown",
   "metadata": {},
   "source": [
    "### Data Exploration"
   ]
  },
  {
   "cell_type": "code",
   "execution_count": 3,
   "metadata": {},
   "outputs": [
    {
     "data": {
      "text/html": [
       "<div>\n",
       "<style scoped>\n",
       "    .dataframe tbody tr th:only-of-type {\n",
       "        vertical-align: middle;\n",
       "    }\n",
       "\n",
       "    .dataframe tbody tr th {\n",
       "        vertical-align: top;\n",
       "    }\n",
       "\n",
       "    .dataframe thead th {\n",
       "        text-align: right;\n",
       "    }\n",
       "</style>\n",
       "<table border=\"1\" class=\"dataframe\">\n",
       "  <thead>\n",
       "    <tr style=\"text-align: right;\">\n",
       "      <th></th>\n",
       "      <th>Open</th>\n",
       "      <th>High</th>\n",
       "      <th>Low</th>\n",
       "      <th>Close</th>\n",
       "      <th>Volume</th>\n",
       "      <th>Dividend</th>\n",
       "      <th>Split</th>\n",
       "      <th>Adj_Open</th>\n",
       "      <th>Adj_High</th>\n",
       "      <th>Adj_Low</th>\n",
       "      <th>Adj_Close</th>\n",
       "      <th>Adj_Volume</th>\n",
       "    </tr>\n",
       "    <tr>\n",
       "      <th>Date</th>\n",
       "      <th></th>\n",
       "      <th></th>\n",
       "      <th></th>\n",
       "      <th></th>\n",
       "      <th></th>\n",
       "      <th></th>\n",
       "      <th></th>\n",
       "      <th></th>\n",
       "      <th></th>\n",
       "      <th></th>\n",
       "      <th></th>\n",
       "      <th></th>\n",
       "    </tr>\n",
       "  </thead>\n",
       "  <tbody>\n",
       "    <tr>\n",
       "      <th>2017-12-15</th>\n",
       "      <td>98.04</td>\n",
       "      <td>98.49</td>\n",
       "      <td>96.9100</td>\n",
       "      <td>97.11</td>\n",
       "      <td>16141258.0</td>\n",
       "      <td>0.0</td>\n",
       "      <td>1.0</td>\n",
       "      <td>96.291940</td>\n",
       "      <td>96.733916</td>\n",
       "      <td>95.182088</td>\n",
       "      <td>95.378522</td>\n",
       "      <td>16141258.0</td>\n",
       "    </tr>\n",
       "    <tr>\n",
       "      <th>2017-12-18</th>\n",
       "      <td>97.44</td>\n",
       "      <td>98.17</td>\n",
       "      <td>97.3600</td>\n",
       "      <td>97.90</td>\n",
       "      <td>7964156.0</td>\n",
       "      <td>0.0</td>\n",
       "      <td>1.0</td>\n",
       "      <td>95.702638</td>\n",
       "      <td>96.419622</td>\n",
       "      <td>95.624064</td>\n",
       "      <td>96.154436</td>\n",
       "      <td>7964156.0</td>\n",
       "    </tr>\n",
       "    <tr>\n",
       "      <th>2017-12-19</th>\n",
       "      <td>99.78</td>\n",
       "      <td>99.91</td>\n",
       "      <td>98.2900</td>\n",
       "      <td>98.80</td>\n",
       "      <td>12011446.0</td>\n",
       "      <td>0.0</td>\n",
       "      <td>1.0</td>\n",
       "      <td>98.000915</td>\n",
       "      <td>98.128597</td>\n",
       "      <td>96.537482</td>\n",
       "      <td>97.038389</td>\n",
       "      <td>12011446.0</td>\n",
       "    </tr>\n",
       "    <tr>\n",
       "      <th>2017-12-20</th>\n",
       "      <td>99.48</td>\n",
       "      <td>99.65</td>\n",
       "      <td>98.4500</td>\n",
       "      <td>98.75</td>\n",
       "      <td>10729605.0</td>\n",
       "      <td>0.0</td>\n",
       "      <td>1.0</td>\n",
       "      <td>97.706264</td>\n",
       "      <td>97.873233</td>\n",
       "      <td>96.694629</td>\n",
       "      <td>96.989280</td>\n",
       "      <td>10729605.0</td>\n",
       "    </tr>\n",
       "    <tr>\n",
       "      <th>2017-12-21</th>\n",
       "      <td>99.32</td>\n",
       "      <td>99.33</td>\n",
       "      <td>97.9800</td>\n",
       "      <td>98.06</td>\n",
       "      <td>7368128.0</td>\n",
       "      <td>0.0</td>\n",
       "      <td>1.0</td>\n",
       "      <td>97.549117</td>\n",
       "      <td>97.558939</td>\n",
       "      <td>96.233009</td>\n",
       "      <td>96.311583</td>\n",
       "      <td>7368128.0</td>\n",
       "    </tr>\n",
       "    <tr>\n",
       "      <th>2017-12-22</th>\n",
       "      <td>98.14</td>\n",
       "      <td>98.42</td>\n",
       "      <td>97.6800</td>\n",
       "      <td>98.21</td>\n",
       "      <td>5478016.0</td>\n",
       "      <td>0.0</td>\n",
       "      <td>1.0</td>\n",
       "      <td>96.390157</td>\n",
       "      <td>96.665164</td>\n",
       "      <td>95.938358</td>\n",
       "      <td>96.458908</td>\n",
       "      <td>5478016.0</td>\n",
       "    </tr>\n",
       "    <tr>\n",
       "      <th>2017-12-26</th>\n",
       "      <td>98.35</td>\n",
       "      <td>99.44</td>\n",
       "      <td>98.3500</td>\n",
       "      <td>99.16</td>\n",
       "      <td>4295891.0</td>\n",
       "      <td>0.0</td>\n",
       "      <td>1.0</td>\n",
       "      <td>96.596412</td>\n",
       "      <td>97.666977</td>\n",
       "      <td>96.596412</td>\n",
       "      <td>97.391970</td>\n",
       "      <td>4295891.0</td>\n",
       "    </tr>\n",
       "    <tr>\n",
       "      <th>2017-12-27</th>\n",
       "      <td>99.56</td>\n",
       "      <td>99.60</td>\n",
       "      <td>98.8299</td>\n",
       "      <td>99.26</td>\n",
       "      <td>5140793.0</td>\n",
       "      <td>0.0</td>\n",
       "      <td>1.0</td>\n",
       "      <td>97.784838</td>\n",
       "      <td>97.824125</td>\n",
       "      <td>97.067756</td>\n",
       "      <td>97.490187</td>\n",
       "      <td>5140793.0</td>\n",
       "    </tr>\n",
       "    <tr>\n",
       "      <th>2017-12-28</th>\n",
       "      <td>99.52</td>\n",
       "      <td>99.62</td>\n",
       "      <td>99.1200</td>\n",
       "      <td>99.40</td>\n",
       "      <td>9763936.0</td>\n",
       "      <td>0.0</td>\n",
       "      <td>1.0</td>\n",
       "      <td>97.745551</td>\n",
       "      <td>97.843768</td>\n",
       "      <td>97.352683</td>\n",
       "      <td>97.627691</td>\n",
       "      <td>9763936.0</td>\n",
       "    </tr>\n",
       "    <tr>\n",
       "      <th>2017-12-29</th>\n",
       "      <td>99.40</td>\n",
       "      <td>99.69</td>\n",
       "      <td>98.7500</td>\n",
       "      <td>98.75</td>\n",
       "      <td>7144273.0</td>\n",
       "      <td>0.0</td>\n",
       "      <td>1.0</td>\n",
       "      <td>97.627691</td>\n",
       "      <td>97.912520</td>\n",
       "      <td>96.989280</td>\n",
       "      <td>96.989280</td>\n",
       "      <td>7144273.0</td>\n",
       "    </tr>\n",
       "  </tbody>\n",
       "</table>\n",
       "</div>"
      ],
      "text/plain": [
       "             Open   High      Low  Close      Volume  Dividend  Split  \\\n",
       "Date                                                                    \n",
       "2017-12-15  98.04  98.49  96.9100  97.11  16141258.0       0.0    1.0   \n",
       "2017-12-18  97.44  98.17  97.3600  97.90   7964156.0       0.0    1.0   \n",
       "2017-12-19  99.78  99.91  98.2900  98.80  12011446.0       0.0    1.0   \n",
       "2017-12-20  99.48  99.65  98.4500  98.75  10729605.0       0.0    1.0   \n",
       "2017-12-21  99.32  99.33  97.9800  98.06   7368128.0       0.0    1.0   \n",
       "2017-12-22  98.14  98.42  97.6800  98.21   5478016.0       0.0    1.0   \n",
       "2017-12-26  98.35  99.44  98.3500  99.16   4295891.0       0.0    1.0   \n",
       "2017-12-27  99.56  99.60  98.8299  99.26   5140793.0       0.0    1.0   \n",
       "2017-12-28  99.52  99.62  99.1200  99.40   9763936.0       0.0    1.0   \n",
       "2017-12-29  99.40  99.69  98.7500  98.75   7144273.0       0.0    1.0   \n",
       "\n",
       "             Adj_Open   Adj_High    Adj_Low  Adj_Close  Adj_Volume  \n",
       "Date                                                                \n",
       "2017-12-15  96.291940  96.733916  95.182088  95.378522  16141258.0  \n",
       "2017-12-18  95.702638  96.419622  95.624064  96.154436   7964156.0  \n",
       "2017-12-19  98.000915  98.128597  96.537482  97.038389  12011446.0  \n",
       "2017-12-20  97.706264  97.873233  96.694629  96.989280  10729605.0  \n",
       "2017-12-21  97.549117  97.558939  96.233009  96.311583   7368128.0  \n",
       "2017-12-22  96.390157  96.665164  95.938358  96.458908   5478016.0  \n",
       "2017-12-26  96.596412  97.666977  96.596412  97.391970   4295891.0  \n",
       "2017-12-27  97.784838  97.824125  97.067756  97.490187   5140793.0  \n",
       "2017-12-28  97.745551  97.843768  97.352683  97.627691   9763936.0  \n",
       "2017-12-29  97.627691  97.912520  96.989280  96.989280   7144273.0  "
      ]
     },
     "execution_count": 3,
     "metadata": {},
     "output_type": "execute_result"
    }
   ],
   "source": [
    "df_train.tail(10)"
   ]
  },
  {
   "cell_type": "code",
   "execution_count": 4,
   "metadata": {},
   "outputs": [
    {
     "data": {
      "text/html": [
       "<div>\n",
       "<style scoped>\n",
       "    .dataframe tbody tr th:only-of-type {\n",
       "        vertical-align: middle;\n",
       "    }\n",
       "\n",
       "    .dataframe tbody tr th {\n",
       "        vertical-align: top;\n",
       "    }\n",
       "\n",
       "    .dataframe thead th {\n",
       "        text-align: right;\n",
       "    }\n",
       "</style>\n",
       "<table border=\"1\" class=\"dataframe\">\n",
       "  <thead>\n",
       "    <tr style=\"text-align: right;\">\n",
       "      <th></th>\n",
       "      <th>Close</th>\n",
       "    </tr>\n",
       "    <tr>\n",
       "      <th>Date</th>\n",
       "      <th></th>\n",
       "    </tr>\n",
       "  </thead>\n",
       "  <tbody>\n",
       "    <tr>\n",
       "      <th>2001-01-02</th>\n",
       "      <td>53.88</td>\n",
       "    </tr>\n",
       "    <tr>\n",
       "      <th>2001-01-03</th>\n",
       "      <td>58.44</td>\n",
       "    </tr>\n",
       "    <tr>\n",
       "      <th>2001-01-04</th>\n",
       "      <td>56.19</td>\n",
       "    </tr>\n",
       "    <tr>\n",
       "      <th>2001-01-05</th>\n",
       "      <td>53.94</td>\n",
       "    </tr>\n",
       "    <tr>\n",
       "      <th>2001-01-08</th>\n",
       "      <td>53.94</td>\n",
       "    </tr>\n",
       "  </tbody>\n",
       "</table>\n",
       "</div>"
      ],
      "text/plain": [
       "            Close\n",
       "Date             \n",
       "2001-01-02  53.88\n",
       "2001-01-03  58.44\n",
       "2001-01-04  56.19\n",
       "2001-01-05  53.94\n",
       "2001-01-08  53.94"
      ]
     },
     "execution_count": 4,
     "metadata": {},
     "output_type": "execute_result"
    }
   ],
   "source": [
    "training_set = df_train.iloc[:, 3:4]\n",
    "training_set.head()"
   ]
  },
  {
   "cell_type": "code",
   "execution_count": 5,
   "metadata": {},
   "outputs": [
    {
     "data": {
      "text/html": [
       "<div>\n",
       "<style scoped>\n",
       "    .dataframe tbody tr th:only-of-type {\n",
       "        vertical-align: middle;\n",
       "    }\n",
       "\n",
       "    .dataframe tbody tr th {\n",
       "        vertical-align: top;\n",
       "    }\n",
       "\n",
       "    .dataframe thead th {\n",
       "        text-align: right;\n",
       "    }\n",
       "</style>\n",
       "<table border=\"1\" class=\"dataframe\">\n",
       "  <thead>\n",
       "    <tr style=\"text-align: right;\">\n",
       "      <th></th>\n",
       "      <th>Open</th>\n",
       "      <th>High</th>\n",
       "      <th>Low</th>\n",
       "      <th>Close</th>\n",
       "      <th>Volume</th>\n",
       "      <th>Dividend</th>\n",
       "      <th>Split</th>\n",
       "      <th>Adj_Open</th>\n",
       "      <th>Adj_High</th>\n",
       "      <th>Adj_Low</th>\n",
       "      <th>Adj_Close</th>\n",
       "      <th>Adj_Volume</th>\n",
       "    </tr>\n",
       "  </thead>\n",
       "  <tbody>\n",
       "    <tr>\n",
       "      <th>count</th>\n",
       "      <td>4276.000000</td>\n",
       "      <td>4276.000000</td>\n",
       "      <td>4276.000000</td>\n",
       "      <td>4276.000000</td>\n",
       "      <td>4.276000e+03</td>\n",
       "      <td>4276.000000</td>\n",
       "      <td>4276.0</td>\n",
       "      <td>4276.000000</td>\n",
       "      <td>4276.000000</td>\n",
       "      <td>4276.000000</td>\n",
       "      <td>4276.000000</td>\n",
       "      <td>4.276000e+03</td>\n",
       "    </tr>\n",
       "    <tr>\n",
       "      <th>mean</th>\n",
       "      <td>59.565533</td>\n",
       "      <td>60.062879</td>\n",
       "      <td>59.076665</td>\n",
       "      <td>59.574365</td>\n",
       "      <td>1.162714e+07</td>\n",
       "      <td>0.004609</td>\n",
       "      <td>1.0</td>\n",
       "      <td>49.130170</td>\n",
       "      <td>49.532881</td>\n",
       "      <td>48.737523</td>\n",
       "      <td>49.139093</td>\n",
       "      <td>1.162714e+07</td>\n",
       "    </tr>\n",
       "    <tr>\n",
       "      <th>std</th>\n",
       "      <td>11.689958</td>\n",
       "      <td>11.698640</td>\n",
       "      <td>11.704923</td>\n",
       "      <td>11.708538</td>\n",
       "      <td>7.036048e+06</td>\n",
       "      <td>0.041342</td>\n",
       "      <td>0.0</td>\n",
       "      <td>14.263173</td>\n",
       "      <td>14.302609</td>\n",
       "      <td>14.248797</td>\n",
       "      <td>14.280403</td>\n",
       "      <td>7.036048e+06</td>\n",
       "    </tr>\n",
       "    <tr>\n",
       "      <th>min</th>\n",
       "      <td>42.390000</td>\n",
       "      <td>42.680000</td>\n",
       "      <td>41.500000</td>\n",
       "      <td>42.270000</td>\n",
       "      <td>2.031400e+06</td>\n",
       "      <td>0.000000</td>\n",
       "      <td>1.0</td>\n",
       "      <td>31.504749</td>\n",
       "      <td>32.016841</td>\n",
       "      <td>29.832529</td>\n",
       "      <td>31.534436</td>\n",
       "      <td>2.031400e+06</td>\n",
       "    </tr>\n",
       "    <tr>\n",
       "      <th>25%</th>\n",
       "      <td>50.645000</td>\n",
       "      <td>51.145000</td>\n",
       "      <td>50.010000</td>\n",
       "      <td>50.585000</td>\n",
       "      <td>7.071072e+06</td>\n",
       "      <td>0.000000</td>\n",
       "      <td>1.0</td>\n",
       "      <td>38.235853</td>\n",
       "      <td>38.630677</td>\n",
       "      <td>37.835860</td>\n",
       "      <td>38.220691</td>\n",
       "      <td>7.071072e+06</td>\n",
       "    </tr>\n",
       "    <tr>\n",
       "      <th>50%</th>\n",
       "      <td>55.140000</td>\n",
       "      <td>55.709000</td>\n",
       "      <td>54.530000</td>\n",
       "      <td>55.100000</td>\n",
       "      <td>9.585800e+06</td>\n",
       "      <td>0.000000</td>\n",
       "      <td>1.0</td>\n",
       "      <td>42.843184</td>\n",
       "      <td>43.176977</td>\n",
       "      <td>42.449014</td>\n",
       "      <td>42.866702</td>\n",
       "      <td>9.585800e+06</td>\n",
       "    </tr>\n",
       "    <tr>\n",
       "      <th>75%</th>\n",
       "      <td>70.000000</td>\n",
       "      <td>70.422500</td>\n",
       "      <td>69.695000</td>\n",
       "      <td>69.982500</td>\n",
       "      <td>1.407239e+07</td>\n",
       "      <td>0.000000</td>\n",
       "      <td>1.0</td>\n",
       "      <td>63.663937</td>\n",
       "      <td>64.087935</td>\n",
       "      <td>63.248597</td>\n",
       "      <td>63.617725</td>\n",
       "      <td>1.407239e+07</td>\n",
       "    </tr>\n",
       "    <tr>\n",
       "      <th>max</th>\n",
       "      <td>99.780000</td>\n",
       "      <td>100.130000</td>\n",
       "      <td>99.120000</td>\n",
       "      <td>99.620000</td>\n",
       "      <td>9.678680e+07</td>\n",
       "      <td>0.510000</td>\n",
       "      <td>1.0</td>\n",
       "      <td>98.000915</td>\n",
       "      <td>98.128597</td>\n",
       "      <td>97.352683</td>\n",
       "      <td>97.627691</td>\n",
       "      <td>9.678680e+07</td>\n",
       "    </tr>\n",
       "  </tbody>\n",
       "</table>\n",
       "</div>"
      ],
      "text/plain": [
       "              Open         High          Low        Close        Volume  \\\n",
       "count  4276.000000  4276.000000  4276.000000  4276.000000  4.276000e+03   \n",
       "mean     59.565533    60.062879    59.076665    59.574365  1.162714e+07   \n",
       "std      11.689958    11.698640    11.704923    11.708538  7.036048e+06   \n",
       "min      42.390000    42.680000    41.500000    42.270000  2.031400e+06   \n",
       "25%      50.645000    51.145000    50.010000    50.585000  7.071072e+06   \n",
       "50%      55.140000    55.709000    54.530000    55.100000  9.585800e+06   \n",
       "75%      70.000000    70.422500    69.695000    69.982500  1.407239e+07   \n",
       "max      99.780000   100.130000    99.120000    99.620000  9.678680e+07   \n",
       "\n",
       "          Dividend   Split     Adj_Open     Adj_High      Adj_Low  \\\n",
       "count  4276.000000  4276.0  4276.000000  4276.000000  4276.000000   \n",
       "mean      0.004609     1.0    49.130170    49.532881    48.737523   \n",
       "std       0.041342     0.0    14.263173    14.302609    14.248797   \n",
       "min       0.000000     1.0    31.504749    32.016841    29.832529   \n",
       "25%       0.000000     1.0    38.235853    38.630677    37.835860   \n",
       "50%       0.000000     1.0    42.843184    43.176977    42.449014   \n",
       "75%       0.000000     1.0    63.663937    64.087935    63.248597   \n",
       "max       0.510000     1.0    98.000915    98.128597    97.352683   \n",
       "\n",
       "         Adj_Close    Adj_Volume  \n",
       "count  4276.000000  4.276000e+03  \n",
       "mean     49.139093  1.162714e+07  \n",
       "std      14.280403  7.036048e+06  \n",
       "min      31.534436  2.031400e+06  \n",
       "25%      38.220691  7.071072e+06  \n",
       "50%      42.866702  9.585800e+06  \n",
       "75%      63.617725  1.407239e+07  \n",
       "max      97.627691  9.678680e+07  "
      ]
     },
     "execution_count": 5,
     "metadata": {},
     "output_type": "execute_result"
    }
   ],
   "source": [
    "df_train.describe()"
   ]
  },
  {
   "cell_type": "markdown",
   "metadata": {},
   "source": [
    "### Checking for Missing values"
   ]
  },
  {
   "cell_type": "code",
   "execution_count": 6,
   "metadata": {},
   "outputs": [
    {
     "data": {
      "text/plain": [
       "Open          0\n",
       "High          0\n",
       "Low           0\n",
       "Close         0\n",
       "Volume        0\n",
       "Dividend      0\n",
       "Split         0\n",
       "Adj_Open      0\n",
       "Adj_High      0\n",
       "Adj_Low       0\n",
       "Adj_Close     0\n",
       "Adj_Volume    0\n",
       "dtype: int64"
      ]
     },
     "execution_count": 6,
     "metadata": {},
     "output_type": "execute_result"
    }
   ],
   "source": [
    "df_train.isnull().sum()"
   ]
  },
  {
   "cell_type": "markdown",
   "metadata": {},
   "source": [
    "### Exploratory Visualization"
   ]
  },
  {
   "cell_type": "code",
   "execution_count": 7,
   "metadata": {},
   "outputs": [
    {
     "name": "stderr",
     "output_type": "stream",
     "text": [
      "No handles with labels found to put in legend.\n"
     ]
    },
    {
     "data": {
      "image/png": "[encoded data removed]",
      "text/plain": [
       "<Figure size 432x288 with 1 Axes>"
      ]
     },
     "metadata": {},
     "output_type": "display_data"
    }
   ],
   "source": [
    "plt.plot(training_set, color = 'red')\n",
    "plt.title('Walmart Time-series Plot')\n",
    "plt.xlabel('Time')\n",
    "plt.ylabel('Walmart Stock Price')\n",
    "plt.legend()\n",
    "plt.show()"
   ]
  },
  {
   "cell_type": "code",
   "execution_count": 8,
   "metadata": {},
   "outputs": [],
   "source": [
    "df_train = df_train.reset_index()"
   ]
  },
  {
   "cell_type": "code",
   "execution_count": 9,
   "metadata": {},
   "outputs": [],
   "source": [
    "import plotly.plotly as py\n",
    "import plotly.graph_objs as go\n",
    "import plotly"
   ]
  },
  {
   "cell_type": "code",
   "execution_count": 10,
   "metadata": {},
   "outputs": [],
   "source": [
    "plotly.tools.set_credentials_file(username='sanath11', api_key='GJgCG3P6HOdoOTqaVyKD')"
   ]
  },
  {
   "cell_type": "code",
   "execution_count": 11,
   "metadata": {},
   "outputs": [
    {
     "data": {
      "text/html": [
       "<iframe id=\"igraph\" scrolling=\"no\" style=\"border:none;\" seamless=\"seamless\" src=\"https://plot.ly/~sanath11/8.embed\" height=\"525px\" width=\"100%\"></iframe>"
      ],
      "text/plain": [
       "<plotly.tools.PlotlyDisplay object>"
      ]
     },
     "execution_count": 11,
     "metadata": {},
     "output_type": "execute_result"
    }
   ],
   "source": [
    "trace_close = go.Scatter(\n",
    "    x=df_train[\"Date\"],\n",
    "    y=df_train[\"Close\"],\n",
    "    name = \"High\",\n",
    "    opacity = 0.8)\n",
    "\n",
    "\n",
    "data = [trace_close]\n",
    "\n",
    "layout = dict(\n",
    "    title='Walmart Time-Seried Plot',\n",
    "    xaxis=dict(\n",
    "        rangeselector=dict(\n",
    "            buttons=list([\n",
    "                dict(count=1,\n",
    "                     label='1m',\n",
    "                     step='month',\n",
    "                     stepmode='backward'),\n",
    "                dict(count=6,\n",
    "                     label='6m',\n",
    "                     step='month',\n",
    "                     stepmode='backward'),\n",
    "                dict(step='all')\n",
    "            ])\n",
    "        ),\n",
    "        rangeslider=dict(\n",
    "            visible = True\n",
    "        ),\n",
    "        type='date'\n",
    "    )\n",
    ")\n",
    "\n",
    "fig = dict(data=data, layout=layout)\n",
    "py.iplot(fig, filename = \"Interactive Walmart Time-Seried Plot\")"
   ]
  },
  {
   "cell_type": "markdown",
   "metadata": {},
   "source": [
    "### Seasonal Decompostion"
   ]
  },
  {
   "cell_type": "code",
   "execution_count": 12,
   "metadata": {},
   "outputs": [
    {
     "data": {
      "image/png": "[encoded data removed]",
      "text/plain": [
       "<Figure size 432x288 with 4 Axes>"
      ]
     },
     "metadata": {},
     "output_type": "display_data"
    }
   ],
   "source": [
    "import statsmodels.api as sm\n",
    "decomposition = sm.tsa.seasonal_decompose(training_set, freq = 204)\n",
    "fig = decomposition.plot()\n",
    "plt.show()"
   ]
  },
  {
   "cell_type": "markdown",
   "metadata": {},
   "source": [
    "### Feature Scaling"
   ]
  },
  {
   "cell_type": "code",
   "execution_count": 13,
   "metadata": {},
   "outputs": [],
   "source": [
    "from sklearn.preprocessing import MinMaxScaler\n",
    "sc = MinMaxScaler(feature_range = (0, 1))\n",
    "training_set_scaled = sc.fit_transform(training_set)"
   ]
  },
  {
   "cell_type": "markdown",
   "metadata": {},
   "source": [
    "## Data Pre-processing"
   ]
  },
  {
   "cell_type": "markdown",
   "metadata": {},
   "source": [
    "### Creating a data structure with 60 timesteps and 1 output"
   ]
  },
  {
   "cell_type": "code",
   "execution_count": 14,
   "metadata": {},
   "outputs": [],
   "source": [
    "X_train = []\n",
    "y_train = []\n",
    "for i in range(60, 4276):\n",
    "    X_train.append(training_set_scaled[i-60:i, 0])\n",
    "    y_train.append(training_set_scaled[i, 0])\n",
    "X_train, y_train = np.array(X_train), np.array(y_train)\n",
    "\n",
    "# Reshaping\n",
    "X_train = np.reshape(X_train, (X_train.shape[0], X_train.shape[1], 1))"
   ]
  },
  {
   "cell_type": "markdown",
   "metadata": {},
   "source": [
    "### Basic LSTM Model"
   ]
  },
  {
   "cell_type": "markdown",
   "metadata": {},
   "source": [
    "#### Importing the Keras libraries and packages"
   ]
  },
  {
   "cell_type": "code",
   "execution_count": 15,
   "metadata": {},
   "outputs": [
    {
     "name": "stderr",
     "output_type": "stream",
     "text": [
      "C:\\Users\\sanat\\Anaconda3\\envs\\tensorflow\\lib\\site-packages\\h5py\\__init__.py:36: FutureWarning:\n",
      "\n",
      "Conversion of the second argument of issubdtype from `float` to `np.floating` is deprecated. In future, it will be treated as `np.float64 == np.dtype(float).type`.\n",
      "\n",
      "Using TensorFlow backend.\n"
     ]
    }
   ],
   "source": [
    "from keras.models import Sequential\n",
    "from keras.layers import Dense\n",
    "from keras.layers import LSTM\n",
    "from keras.layers import Dropout"
   ]
  },
  {
   "cell_type": "markdown",
   "metadata": {},
   "source": [
    "#### Build a basic Long-Short Term Memory model"
   ]
  },
  {
   "cell_type": "code",
   "execution_count": 16,
   "metadata": {},
   "outputs": [],
   "source": [
    "# Initialising the RNN\n",
    "regressor = Sequential()\n",
    "\n",
    "# Adding the first LSTM layer and some Dropout regularisation\n",
    "regressor.add(LSTM(units = 10, input_shape = (X_train.shape[1], 1)))\n",
    "regressor.add(Dropout(0.2))\n",
    "\n",
    "# Adding the output layer\n",
    "regressor.add(Dense(units = 1))\n",
    "\n",
    "# Compiling the RNN\n",
    "regressor.compile(metrics=['accuracy'], optimizer = 'adam', loss = 'mean_squared_error')"
   ]
  },
  {
   "cell_type": "markdown",
   "metadata": {},
   "source": [
    "#### Fitting the RNN to the Training set"
   ]
  },
  {
   "cell_type": "code",
   "execution_count": 17,
   "metadata": {},
   "outputs": [
    {
     "name": "stdout",
     "output_type": "stream",
     "text": [
      "Epoch 1/1\n",
      "4216/4216 [==============================] - 17s 4ms/step - loss: 0.0248 - acc: 4.7438e-04\n"
     ]
    },
    {
     "data": {
      "text/plain": [
       "<keras.callbacks.History at 0x23219324748>"
      ]
     },
     "execution_count": 17,
     "metadata": {},
     "output_type": "execute_result"
    }
   ],
   "source": [
    "regressor.fit(X_train, y_train, epochs = 1, batch_size = 8)"
   ]
  },
  {
   "cell_type": "markdown",
   "metadata": {},
   "source": [
    "#### Pre-processing the test data for prediction"
   ]
  },
  {
   "cell_type": "code",
   "execution_count": 18,
   "metadata": {},
   "outputs": [],
   "source": [
    "test_set = df_test.iloc[:, 3:4].values\n",
    "\n",
    "dataset_total = pd.concat((df_train['Close'], df_test['Close']), axis = 0)\n",
    "inputs = dataset_total[len(dataset_total) - len(df_test) - 60:].values\n",
    "inputs = inputs.reshape(-1,1)\n",
    "inputs = sc.transform(inputs)\n",
    "X_test = []\n",
    "for i in range(60, 248):\n",
    "    X_test.append(inputs[i-60:i, 0])\n",
    "\n",
    "X_test = np.array(X_test)\n",
    "X_test = np.reshape(X_test, (X_test.shape[0], X_test.shape[1], 1))"
   ]
  },
  {
   "cell_type": "markdown",
   "metadata": {},
   "source": [
    "#### Prediction on basic LSTM model"
   ]
  },
  {
   "cell_type": "code",
   "execution_count": 19,
   "metadata": {},
   "outputs": [],
   "source": [
    "predicted_stock_price = regressor.predict(X_test)\n",
    "predicted_stock_price = sc.inverse_transform(predicted_stock_price)"
   ]
  },
  {
   "cell_type": "markdown",
   "metadata": {},
   "source": [
    "#### Test score (Mean squared error)"
   ]
  },
  {
   "cell_type": "code",
   "execution_count": 20,
   "metadata": {},
   "outputs": [
    {
     "data": {
      "text/plain": [
       "15.102331449491198"
      ]
     },
     "execution_count": 20,
     "metadata": {},
     "output_type": "execute_result"
    }
   ],
   "source": [
    "import sklearn.metrics\n",
    "sklearn.metrics.mean_squared_error(test_set, predicted_stock_price)"
   ]
  },
  {
   "cell_type": "markdown",
   "metadata": {},
   "source": [
    "#### Visualizing the predictions"
   ]
  },
  {
   "cell_type": "code",
   "execution_count": 21,
   "metadata": {},
   "outputs": [
    {
     "data": {
      "image/png": "[encoded data removed]",
      "text/plain": [
       "<Figure size 432x288 with 1 Axes>"
      ]
     },
     "metadata": {},
     "output_type": "display_data"
    }
   ],
   "source": [
    "plt.plot(test_set, color = 'red', label = 'Real Walmart Stock Price')\n",
    "plt.plot(predicted_stock_price, color = 'blue', label = 'Predicted Walmart Stock Price')\n",
    "plt.title('Walmart Stock Price Prediction')\n",
    "plt.xlabel('Time')\n",
    "plt.ylabel('Walmart Stock Price')\n",
    "plt.legend()\n",
    "plt.show()"
   ]
  },
  {
   "cell_type": "code",
   "execution_count": 23,
   "metadata": {},
   "outputs": [],
   "source": [
    "#df_test = df_test.reset_index()"
   ]
  },
  {
   "cell_type": "code",
   "execution_count": 24,
   "metadata": {},
   "outputs": [
    {
     "data": {
      "text/html": [
       "<iframe id=\"igraph\" scrolling=\"no\" style=\"border:none;\" seamless=\"seamless\" src=\"https://plot.ly/~sanath11/10.embed\" height=\"525px\" width=\"100%\"></iframe>"
      ],
      "text/plain": [
       "<plotly.tools.PlotlyDisplay object>"
      ]
     },
     "execution_count": 24,
     "metadata": {},
     "output_type": "execute_result"
    }
   ],
   "source": [
    "trace_high = go.Scatter(\n",
    "    x=df_test[\"Date\"],\n",
    "    y=df_test[\"Close\"],\n",
    "    name = \"Real  Walmart Stock Price\",\n",
    "    line = dict(color = 'red'),\n",
    "    opacity = 0.8)\n",
    "\n",
    "trace_low = go.Scatter(\n",
    "    x=df_test[\"Date\"],\n",
    "    y=predicted_stock_price,\n",
    "    name = \"Predicted Walmart Stock Price\",\n",
    "    line = dict(color = 'Blue'),\n",
    "    opacity = 0.8)\n",
    "\n",
    "data = [trace_high,trace_low]\n",
    "\n",
    "layout = dict(\n",
    "    title='Real vs Predicted Walmart Stock Prices for Basic LSTM',\n",
    "    xaxis=dict(\n",
    "        rangeselector=dict(\n",
    "            buttons=list([\n",
    "                dict(count=1,\n",
    "                     label='1m',\n",
    "                     step='month',\n",
    "                     stepmode='backward'),\n",
    "                dict(count=6,\n",
    "                     label='6m',\n",
    "                     step='month',\n",
    "                     stepmode='backward'),\n",
    "                dict(step='all')\n",
    "            ])\n",
    "        ),\n",
    "        rangeslider=dict(\n",
    "            visible = True\n",
    "        ),\n",
    "        type='date'\n",
    "    )\n",
    ")\n",
    "\n",
    "fig = dict(data=data, layout=layout)\n",
    "py.iplot(fig, filename = \"Interactive Real vs Predicted Walmart Time-Seried Plot\")"
   ]
  },
  {
   "cell_type": "markdown",
   "metadata": {},
   "source": [
    "### Improvised LSTM"
   ]
  },
  {
   "cell_type": "markdown",
   "metadata": {},
   "source": [
    "#### Importing the Keras libraries and packages"
   ]
  },
  {
   "cell_type": "code",
   "execution_count": 25,
   "metadata": {},
   "outputs": [],
   "source": [
    "from keras.models import Sequential\n",
    "from keras.layers import Dense\n",
    "from keras.layers import LSTM\n",
    "from keras.layers import Dropout"
   ]
  },
  {
   "cell_type": "markdown",
   "metadata": {},
   "source": [
    " #### Building an improved LSTM model"
   ]
  },
  {
   "cell_type": "code",
   "execution_count": 36,
   "metadata": {},
   "outputs": [],
   "source": [
    "# Initialising the RNN\n",
    "regressor = Sequential()\n",
    "\n",
    "# Adding the first LSTM layer and some Dropout regularisation\n",
    "regressor.add(LSTM(units = 50, return_sequences = True, input_shape = (X_train.shape[1], 1)))\n",
    "regressor.add(Dropout(0.2))\n",
    "\n",
    "# Adding a second LSTM layer and some Dropout regularisation\n",
    "regressor.add(LSTM(units = 50, return_sequences = True))\n",
    "regressor.add(Dropout(0.2))\n",
    "\n",
    "# Adding a third LSTM layer and some Dropout regularisation\n",
    "regressor.add(LSTM(units = 50, return_sequences = True))\n",
    "regressor.add(Dropout(0.2))\n",
    "\n",
    "# Adding a fourth LSTM layer and some Dropout regularisation\n",
    "regressor.add(LSTM(units = 50))\n",
    "regressor.add(Dropout(0.2))\n",
    "\n",
    "# Adding the output layer\n",
    "regressor.add(Dense(units = 1))\n",
    "\n",
    "# Compiling the RNN\n",
    "regressor.compile(metrics=['accuracy'], optimizer = 'adam', loss = 'mean_squared_error')"
   ]
  },
  {
   "cell_type": "markdown",
   "metadata": {},
   "source": [
    "#### Fitting the RNN to the Training set"
   ]
  },
  {
   "cell_type": "code",
   "execution_count": 37,
   "metadata": {
    "scrolled": true
   },
   "outputs": [
    {
     "name": "stdout",
     "output_type": "stream",
     "text": [
      "Epoch 1/50\n",
      "4216/4216 [==============================] - 13s 3ms/step - loss: 0.0260 - acc: 4.7438e-04\n",
      "Epoch 2/50\n",
      "4216/4216 [==============================] - 9s 2ms/step - loss: 0.0037 - acc: 4.7438e-04\n",
      "Epoch 3/50\n",
      "4216/4216 [==============================] - 9s 2ms/step - loss: 0.0030 - acc: 4.7438e-04\n",
      "Epoch 4/50\n",
      "4216/4216 [==============================] - 9s 2ms/step - loss: 0.0027 - acc: 4.7438e-04\n",
      "Epoch 5/50\n",
      "4216/4216 [==============================] - 9s 2ms/step - loss: 0.0026 - acc: 4.7438e-04\n",
      "Epoch 6/50\n",
      "4216/4216 [==============================] - 9s 2ms/step - loss: 0.0024 - acc: 4.7438e-04\n",
      "Epoch 7/50\n",
      "4216/4216 [==============================] - 9s 2ms/step - loss: 0.0024 - acc: 4.7438e-04\n",
      "Epoch 8/50\n",
      "4216/4216 [==============================] - 9s 2ms/step - loss: 0.0024 - acc: 4.7438e-04\n",
      "Epoch 9/50\n",
      "4216/4216 [==============================] - 9s 2ms/step - loss: 0.0022 - acc: 4.7438e-04\n",
      "Epoch 10/50\n",
      "4216/4216 [==============================] - 9s 2ms/step - loss: 0.0022 - acc: 4.7438e-04\n",
      "Epoch 11/50\n",
      "4216/4216 [==============================] - 9s 2ms/step - loss: 0.0020 - acc: 4.7438e-04\n",
      "Epoch 12/50\n",
      "4216/4216 [==============================] - 9s 2ms/step - loss: 0.0020 - acc: 4.7438e-04\n",
      "Epoch 13/50\n",
      "4216/4216 [==============================] - 9s 2ms/step - loss: 0.0018 - acc: 4.7438e-04\n",
      "Epoch 14/50\n",
      "4216/4216 [==============================] - 9s 2ms/step - loss: 0.0019 - acc: 4.7438e-04\n",
      "Epoch 15/50\n",
      "4216/4216 [==============================] - 9s 2ms/step - loss: 0.0020 - acc: 4.7438e-04\n",
      "Epoch 16/50\n",
      "4216/4216 [==============================] - 9s 2ms/step - loss: 0.0017 - acc: 4.7438e-04\n",
      "Epoch 17/50\n",
      "4216/4216 [==============================] - 9s 2ms/step - loss: 0.0017 - acc: 4.7438e-04\n",
      "Epoch 18/50\n",
      "4216/4216 [==============================] - 9s 2ms/step - loss: 0.0018 - acc: 4.7438e-04\n",
      "Epoch 19/50\n",
      "4216/4216 [==============================] - 9s 2ms/step - loss: 0.0017 - acc: 4.7438e-04\n",
      "Epoch 20/50\n",
      "4216/4216 [==============================] - 9s 2ms/step - loss: 0.0016 - acc: 4.7438e-04\n",
      "Epoch 21/50\n",
      "4216/4216 [==============================] - 9s 2ms/step - loss: 0.0016 - acc: 4.7438e-04\n",
      "Epoch 22/50\n",
      "4216/4216 [==============================] - 8s 2ms/step - loss: 0.0016 - acc: 4.7438e-04\n",
      "Epoch 23/50\n",
      "4216/4216 [==============================] - 8s 2ms/step - loss: 0.0016 - acc: 4.7438e-04\n",
      "Epoch 24/50\n",
      "4216/4216 [==============================] - 8s 2ms/step - loss: 0.0015 - acc: 4.7438e-04\n",
      "Epoch 25/50\n",
      "4216/4216 [==============================] - 8s 2ms/step - loss: 0.0016 - acc: 4.7438e-04\n",
      "Epoch 26/50\n",
      "4216/4216 [==============================] - 8s 2ms/step - loss: 0.0015 - acc: 4.7438e-04\n",
      "Epoch 27/50\n",
      "4216/4216 [==============================] - 8s 2ms/step - loss: 0.0014 - acc: 4.7438e-04\n",
      "Epoch 28/50\n",
      "4216/4216 [==============================] - 8s 2ms/step - loss: 0.0014 - acc: 4.7438e-04\n",
      "Epoch 29/50\n",
      "4216/4216 [==============================] - 8s 2ms/step - loss: 0.0014 - acc: 4.7438e-04\n",
      "Epoch 30/50\n",
      "4216/4216 [==============================] - 8s 2ms/step - loss: 0.0013 - acc: 4.7438e-04\n",
      "Epoch 31/50\n",
      "4216/4216 [==============================] - 8s 2ms/step - loss: 0.0013 - acc: 4.7438e-04\n",
      "Epoch 32/50\n",
      "4216/4216 [==============================] - 8s 2ms/step - loss: 0.0013 - acc: 4.7438e-04\n",
      "Epoch 33/50\n",
      "4216/4216 [==============================] - 8s 2ms/step - loss: 0.0013 - acc: 4.7438e-04\n",
      "Epoch 34/50\n",
      "4216/4216 [==============================] - 8s 2ms/step - loss: 0.0012 - acc: 4.7438e-04\n",
      "Epoch 35/50\n",
      "4216/4216 [==============================] - 8s 2ms/step - loss: 0.0013 - acc: 4.7438e-04\n",
      "Epoch 36/50\n",
      "4216/4216 [==============================] - 8s 2ms/step - loss: 0.0012 - acc: 4.7438e-04\n",
      "Epoch 37/50\n",
      "4216/4216 [==============================] - 8s 2ms/step - loss: 0.0012 - acc: 4.7438e-04\n",
      "Epoch 38/50\n",
      "4216/4216 [==============================] - 8s 2ms/step - loss: 0.0012 - acc: 4.7438e-04\n",
      "Epoch 39/50\n",
      "4216/4216 [==============================] - 8s 2ms/step - loss: 0.0012 - acc: 4.7438e-04\n",
      "Epoch 40/50\n",
      "4216/4216 [==============================] - 8s 2ms/step - loss: 0.0012 - acc: 4.7438e-04\n",
      "Epoch 41/50\n",
      "4216/4216 [==============================] - 8s 2ms/step - loss: 0.0011 - acc: 4.7438e-04\n",
      "Epoch 42/50\n",
      "4216/4216 [==============================] - 8s 2ms/step - loss: 0.0011 - acc: 4.7438e-04\n",
      "Epoch 43/50\n",
      "4216/4216 [==============================] - 8s 2ms/step - loss: 0.0011 - acc: 4.7438e-04\n",
      "Epoch 44/50\n",
      "4216/4216 [==============================] - 8s 2ms/step - loss: 0.0011 - acc: 4.7438e-04\n",
      "Epoch 45/50\n",
      "4216/4216 [==============================] - 8s 2ms/step - loss: 0.0010 - acc: 4.7438e-04\n",
      "Epoch 46/50\n",
      "4216/4216 [==============================] - 8s 2ms/step - loss: 0.0011 - acc: 4.7438e-04\n",
      "Epoch 47/50\n",
      "4216/4216 [==============================] - 8s 2ms/step - loss: 0.0011 - acc: 4.7438e-04\n",
      "Epoch 48/50\n",
      "4216/4216 [==============================] - 8s 2ms/step - loss: 0.0010 - acc: 4.7438e-04\n",
      "Epoch 49/50\n",
      "4216/4216 [==============================] - 8s 2ms/step - loss: 9.7440e-04 - acc: 4.7438e-04\n",
      "Epoch 50/50\n",
      "4216/4216 [==============================] - 8s 2ms/step - loss: 9.9751e-04 - acc: 4.7438e-04\n"
     ]
    },
    {
     "data": {
      "text/plain": [
       "<keras.callbacks.History at 0x2322ff6b6d8>"
      ]
     },
     "execution_count": 37,
     "metadata": {},
     "output_type": "execute_result"
    }
   ],
   "source": [
    "regressor.fit(X_train, y_train, epochs = 50, batch_size = 128)"
   ]
  },
  {
   "cell_type": "markdown",
   "metadata": {},
   "source": [
    "#### Pre-processing the test data for prediction"
   ]
  },
  {
   "cell_type": "code",
   "execution_count": 38,
   "metadata": {},
   "outputs": [],
   "source": [
    "# Part 3 - Making the predictions and visualising the results\n",
    "\n",
    "test_set = df_test.iloc[:, 3:4].values\n",
    "\n",
    "dataset_total = pd.concat((df_train['Close'], df_test['Close']), axis = 0)\n",
    "inputs = dataset_total[len(dataset_total) - len(df_test) - 60:].values\n",
    "inputs = inputs.reshape(-1,1)\n",
    "inputs = sc.transform(inputs)\n",
    "X_test = []\n",
    "for i in range(60, 248):\n",
    "    X_test.append(inputs[i-60:i, 0])\n",
    "\n",
    "X_test = np.array(X_test)\n",
    "X_test = np.reshape(X_test, (X_test.shape[0], X_test.shape[1], 1))"
   ]
  },
  {
   "cell_type": "markdown",
   "metadata": {},
   "source": [
    "#### Prediction on improved LSTM model"
   ]
  },
  {
   "cell_type": "code",
   "execution_count": 39,
   "metadata": {},
   "outputs": [],
   "source": [
    "predicted_stock_price = regressor.predict(X_test)\n",
    "predicted_stock_price = sc.inverse_transform(predicted_stock_price)"
   ]
  },
  {
   "cell_type": "markdown",
   "metadata": {},
   "source": [
    "#### Test score (Mean squared error)"
   ]
  },
  {
   "cell_type": "code",
   "execution_count": 40,
   "metadata": {},
   "outputs": [
    {
     "data": {
      "text/plain": [
       "6.371900788157693"
      ]
     },
     "execution_count": 40,
     "metadata": {},
     "output_type": "execute_result"
    }
   ],
   "source": [
    "import sklearn.metrics\n",
    "sklearn.metrics.mean_squared_error(test_set, predicted_stock_price)"
   ]
  },
  {
   "cell_type": "markdown",
   "metadata": {},
   "source": [
    "#### Visualizing the predictions"
   ]
  },
  {
   "cell_type": "code",
   "execution_count": 41,
   "metadata": {},
   "outputs": [
    {
     "data": {
      "image/png": "[encoded data removed]",
      "text/plain": [
       "<Figure size 432x288 with 1 Axes>"
      ]
     },
     "metadata": {},
     "output_type": "display_data"
    }
   ],
   "source": [
    "plt.plot(test_set, color = 'red', label = 'Real Walmart Stock Price')\n",
    "plt.plot(predicted_stock_price, color = 'blue', label = 'Predicted Walmart Stock Price')\n",
    "plt.title('Walmart Stock Price Prediction')\n",
    "plt.xlabel('Time')\n",
    "plt.ylabel('Walmart Stock Price')\n",
    "plt.legend()\n",
    "plt.show()"
   ]
  },
  {
   "cell_type": "code",
   "execution_count": 43,
   "metadata": {},
   "outputs": [
    {
     "data": {
      "text/html": [
       "<iframe id=\"igraph\" scrolling=\"no\" style=\"border:none;\" seamless=\"seamless\" src=\"https://plot.ly/~sanath11/10.embed\" height=\"525px\" width=\"100%\"></iframe>"
      ],
      "text/plain": [
       "<plotly.tools.PlotlyDisplay object>"
      ]
     },
     "execution_count": 43,
     "metadata": {},
     "output_type": "execute_result"
    }
   ],
   "source": [
    "trace_high = go.Scatter(\n",
    "    x=df_test[\"Date\"],\n",
    "    y=df_test[\"Close\"],\n",
    "    name = \"Real\",\n",
    "    line = dict(color = 'red'),\n",
    "    opacity = 0.8)\n",
    "\n",
    "trace_low = go.Scatter(\n",
    "    x=df_test[\"Date\"],\n",
    "    y=predicted_stock_price,\n",
    "    name = \"Predicted\",\n",
    "    line = dict(color = 'Blue'),\n",
    "    opacity = 0.8)\n",
    "\n",
    "data = [trace_high,trace_low]\n",
    "\n",
    "layout = dict(\n",
    "    title='Real vs Predicted Walmart Stock Price for improved LSTM',\n",
    "    xaxis=dict(\n",
    "        rangeselector=dict(\n",
    "            buttons=list([\n",
    "                dict(count=1,\n",
    "                     label='1m',\n",
    "                     step='month',\n",
    "                     stepmode='backward'),\n",
    "                dict(count=6,\n",
    "                     label='6m',\n",
    "                     step='month',\n",
    "                     stepmode='backward'),\n",
    "                dict(step='all')\n",
    "            ])\n",
    "        ),\n",
    "        rangeslider=dict(\n",
    "            visible = True\n",
    "        ),\n",
    "        type='date'\n",
    "    )\n",
    ")\n",
    "\n",
    "fig = dict(data=data, layout=layout)\n",
    "py.iplot(fig, filename = \"Interactive Real vs Predicted Walmart Time-Seried Plot\")"
   ]
  },
  {
   "cell_type": "markdown",
   "metadata": {},
   "source": [
    "## Thank you"
   ]
  }
 ],
 "metadata": {
  "kernelspec": {
   "display_name": "Python 3",
   "language": "python",
   "name": "python3"
  },
  "language_info": {
   "codemirror_mode": {
    "name": "ipython",
    "version": 3
   },
   "file_extension": ".py",
   "mimetype": "text/x-python",
   "name": "python",
   "nbconvert_exporter": "python",
   "pygments_lexer": "ipython3",
   "version": "3.5.5"
  }
 },
 "nbformat": 4,
 "nbformat_minor": 2
}
